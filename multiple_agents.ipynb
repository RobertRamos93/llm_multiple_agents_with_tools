{
 "cells": [
  {
   "cell_type": "markdown",
   "id": "f3e74a97",
   "metadata": {},
   "source": [
    "# Ollama"
   ]
  },
  {
   "cell_type": "code",
   "execution_count": 1,
   "id": "6425b939",
   "metadata": {},
   "outputs": [],
   "source": [
    "from pydantic_ai.models.openai import OpenAIModel\n",
    "from pydantic_ai.providers.openai import OpenAIProvider\n",
    "\n",
    "MODEL_NAME = \"llama3.1:latest\"\n",
    "\n",
    "OLLAMA_URL = OpenAIProvider(\n",
    "    base_url=\"http://localhost:11434/v1\"\n",
    ")\n",
    "\n",
    "OLLAMA_MODEL = OpenAIModel(\n",
    "    model_name=MODEL_NAME,\n",
    "    provider=OLLAMA_URL\n",
    ")"
   ]
  },
  {
   "cell_type": "markdown",
   "id": "43933b3a",
   "metadata": {},
   "source": [
    "# Agents"
   ]
  },
  {
   "cell_type": "code",
   "execution_count": 2,
   "id": "5488a81b",
   "metadata": {},
   "outputs": [],
   "source": [
    "from pydantic_ai.agent import Agent\n",
    "    \n",
    "recepcionist_agent = Agent(\n",
    "    model=OLLAMA_MODEL,\n",
    "    instructions=\n",
    "    \"\"\"You are Tera, a recepcionist for Stray Animal Care, an animal care clinic specialized in cats and dogs.\n",
    "    Your job is to take the client's name, pet name and species, along with symptoms (if there are) and according to that info, \n",
    "    refer it to either Dr. Doug Dogson, the dog specialist or to Kathy Katrina, the cat specialist.\"\"\",\n",
    "    output_type=str,\n",
    "    model_settings={\"temperature\": 0.9},\n",
    "    retries=3,\n",
    ")\n",
    "\n",
    "dog_veterinarian = Agent(\n",
    "    model=OLLAMA_MODEL,\n",
    "    instructions=\n",
    "    \"\"\"\n",
    "    You are Dr. Doug Dogson, a veterinarian specialized in dogs working at the Stray Animal Care, an animal care clinic specialized in cats and dogs. \n",
    "    Greet the user and it's pet in a professional way. Use a few puns to make the convo friendly. \n",
    "    According to the intake form, deal with the issue at hand.\n",
    "    \"\"\",\n",
    "    output_type=str,\n",
    "    model_settings={\"temperature\": 0.6},\n",
    "    retries=3\n",
    ")\n",
    "\n",
    "cat_veterinarian = Agent(\n",
    "    model=OLLAMA_MODEL,\n",
    "    instructions=\n",
    "    \"\"\"\n",
    "    You are Dr. Cathy Catrina, a veterinarian specialized in dogs working at the Stray Animal Care, an animal care clinic specialized in cats and dogs. \n",
    "    Greet the user and it's pet in a professional way. Use a few puns to make the convo friendly. \n",
    "    According to the intake form, deal with the issue at hand.\n",
    "    \"\"\",\n",
    "    output_type=str,\n",
    "    model_settings={\"temperature\": 0.6},\n",
    "    retries=3\n",
    ")"
   ]
  },
  {
   "cell_type": "markdown",
   "id": "2a34d8ec",
   "metadata": {},
   "source": [
    "### Tools"
   ]
  },
  {
   "cell_type": "code",
   "execution_count": 3,
   "id": "6cc5236f",
   "metadata": {},
   "outputs": [],
   "source": [
    "from pydantic import BaseModel, Field\n",
    "from typing import Optional, Literal\n",
    "\n",
    "class IntakeForm(BaseModel):\n",
    "    \"\"\"A structured form containing all necessary information from a new client's request.\"\"\"\n",
    "    client_name: str = Field(description=\"The name of the pet's owner.\")\n",
    "    pet_name: str = Field(description=\"The name of the pet.\")\n",
    "    pet_species: Literal[\"cat\", \"dog\"] = Field(description=\"The type of animal. Must be one of 'cat' or 'dog'.\")\n",
    "    symptoms: Optional[str] = Field(description=\"A summary of the pet's symptoms.\")\n",
    "\n",
    "@recepcionist_agent.tool_plain\n",
    "async def call_vet(args: IntakeForm) -> str:\n",
    "    \"\"\"Takes structured client info from the IntakeForm and routes the case to the correct specialist agent.\"\"\"\n",
    "\n",
    "    specialist_response = \"\"\n",
    "    if args.pet_species == \"dog\":\n",
    "        prompt_for_dog_vet = f\"\"\"A new case has been assigned to you.\n",
    "        -Client's name: {args.client_name}\n",
    "        -Dog's name: {args.pet_name}\n",
    "        -Reported symptoms: {args.symptoms}\"\"\"\n",
    "\n",
    "        dog_vet_analysis = await dog_veterinarian.run(prompt_for_dog_vet)\n",
    "        specialist_response = dog_vet_analysis.output\n",
    "\n",
    "    elif args.pet_species == \"cat\":\n",
    "        prompt_for_cat_vet = f\"\"\"A new case has been assigned to you.\n",
    "        -Client's name: {args.client_name}\n",
    "        -Cat's name: {args.pet_name}\n",
    "        -Reported symptoms: {args.symptoms}\"\"\"\n",
    "\n",
    "        cat_vet_analysis = await cat_veterinarian.run(prompt_for_cat_vet)\n",
    "        specialist_response = cat_vet_analysis.output\n",
    "    \n",
    "    return f\"SYSTEM: The specialist has responded. Your ONLY job now is to output the specialist's response verbatim. Here it is: '{specialist_response}'\"\n"
   ]
  },
  {
   "cell_type": "markdown",
   "id": "bf73af52",
   "metadata": {},
   "source": [
    "### tools"
   ]
  },
  {
   "cell_type": "code",
   "execution_count": 5,
   "id": "91a984d6",
   "metadata": {},
   "outputs": [
    {
     "name": "stdout",
     "output_type": "stream",
     "text": [
      "Goodbye!\n"
     ]
    }
   ],
   "source": [
    "from rich.console import Console\n",
    "console = Console(record=True)\n",
    "\n",
    "while True:\n",
    "    try:\n",
    "        user_input = input(\"User: \")\n",
    "        if user_input.lower() in [\"quit\", \"exit\", \"q\"]:\n",
    "            print(\"Goodbye!\")\n",
    "            break\n",
    "        result = await recepcionist_agent.run(user_input)\n",
    "    except:\n",
    "        print(\"ERROR\")\n",
    "        break\n",
    "        \n",
    "        \n",
    "\n",
    "# console.print(result.all_messages())\n",
    "# print(result.output)\n"
   ]
  },
  {
   "cell_type": "code",
   "execution_count": null,
   "id": "cbc1de43",
   "metadata": {},
   "outputs": [],
   "source": []
  }
 ],
 "metadata": {
  "kernelspec": {
   "display_name": "venv",
   "language": "python",
   "name": "python3"
  },
  "language_info": {
   "codemirror_mode": {
    "name": "ipython",
    "version": 3
   },
   "file_extension": ".py",
   "mimetype": "text/x-python",
   "name": "python",
   "nbconvert_exporter": "python",
   "pygments_lexer": "ipython3",
   "version": "3.12.6"
  }
 },
 "nbformat": 4,
 "nbformat_minor": 5
}
